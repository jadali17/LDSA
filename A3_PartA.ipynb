{
 "cells": [
  {
   "cell_type": "code",
   "execution_count": 3,
   "metadata": {},
   "outputs": [],
   "source": [
    "from pyspark.sql import SparkSession\n",
    "\n",
    "#Starting the sparks session\n",
    "\n",
    "spark_session = SparkSession\\\n",
    "        .builder\\\n",
    "        .master(\"spark://192.168.2.87:7077\") \\\n",
    "        .appName(\"hadoop_example\")\\\n",
    "        .config(\"spark.dynamicAllocation.enabled\", True)\\\n",
    "        .config(\"spark.shuffle.service.enabled\", True)\\\n",
    "        .config(\"spark.dynamicAllocation.executorIdleTimeout\",\"30s\")\\\n",
    "        .config(\"spark.executor.cores\",4)\\\n",
    "        .getOrCreate()\n",
    "spark_context = spark_session.sparkContext"
   ]
  },
  {
   "cell_type": "code",
   "execution_count": 99,
   "metadata": {},
   "outputs": [
    {
     "name": "stdout",
     "output_type": "stream",
     "text": [
      "Lines in english transcript : 399375\n",
      "Lines in romanian transcript : 399375\n"
     ]
    }
   ],
   "source": [
    "#Get the number of lines in the english transcript\n",
    "linesEn = spark_context.textFile(\"hdfs://192.168.2.87:9000/europarl/europarl-v7.ro-en.en\")\n",
    "print(\"Lines in english transcript : {}\".format(linesEn.count()))\n",
    "\n",
    "#Get the number of lines in the romanian transcript\n",
    "linesRo = spark_context.textFile(\"hdfs://192.168.2.87:9000/europarl/europarl-v7.ro-en.ro\")\n",
    "print(\"Lines in romanian transcript : {}\".format(linesRo.count()))"
   ]
  },
  {
   "cell_type": "code",
   "execution_count": 100,
   "metadata": {},
   "outputs": [
    {
     "name": "stdout",
     "output_type": "stream",
     "text": [
      "Number of partitions in english transcript : 2\n",
      "Number of partitions in romanian transcript : 2\n",
      "Total number of partitions of both transcript : 4\n"
     ]
    }
   ],
   "source": [
    "#Get the number of partitions\n",
    "print(\"Number of partitions in english transcript : {}\".format(linesEn.getNumPartitions()))\n",
    "print(\"Number of partitions in romanian transcript : {}\".format(linesRo.getNumPartitions()))\n",
    "print(\"Total number of partitions of both transcript : {}\".format(linesEn.getNumPartitions()+linesRo.getNumPartitions()))\n"
   ]
  },
  {
   "cell_type": "code",
   "execution_count": 111,
   "metadata": {},
   "outputs": [],
   "source": [
    "#Function that takes an RDD and returns the lower case words of each line\n",
    "def splitLower(rdd):\n",
    "    \n",
    "    return rdd.map(lambda word : word.lower())\\\n",
    "              .map(lambda line: line.split(' '))\n",
    "              \n"
   ]
  },
  {
   "cell_type": "code",
   "execution_count": 112,
   "metadata": {},
   "outputs": [
    {
     "name": "stdout",
     "output_type": "stream",
     "text": [
      "[['membership', 'of', 'parliament:', 'see', 'minutes'], ['approval', 'of', 'minutes', 'of', 'previous', 'sitting:', 'see', 'minutes'], ['membership', 'of', 'parliament:', 'see', 'minutes'], ['verification', 'of', 'credentials:', 'see', 'minutes'], ['documents', 'received:', 'see', 'minutes'], ['written', 'statements', 'and', 'oral', 'questions', '(tabling):', 'see', 'minutes'], ['petitions:', 'see', 'minutes'], ['texts', 'of', 'agreements', 'forwarded', 'by', 'the', 'council:', 'see', 'minutes'], ['action', 'taken', 'on', \"parliament's\", 'resolutions:', 'see', 'minutes'], ['agenda', 'for', 'next', 'sitting:', 'see', 'minutes']]\n",
      "[['componenţa', 'parlamentului:', 'a', 'se', 'vedea', 'procesul-verbal'], ['aprobarea', 'procesului-verbal', 'al', 'şedinţei', 'precedente:', 'a', 'se', 'vedea', 'procesul-verbal'], ['componenţa', 'parlamentului:', 'a', 'se', 'vedea', 'procesul-verbal'], ['verificarea', 'prerogativelor:', 'a', 'se', 'vedea', 'procesul-verbal'], ['depunere', 'de', 'documente:', 'a', 'se', 'vedea', 'procesul-verbal'], ['declaraţii', 'scrise', 'şi', 'întrebări', 'orale', '(depunere):', 'consultaţi', 'procesul-verbal'], ['petiţii:', 'a', 'se', 'vedea', 'procesul-verbal'], ['transmiterea', 'de', 'către', 'consiliu', 'a', 'textelor', 'acordurilor:', 'a', 'se', 'vedea', 'procesul-verbal'], ['cursul', 'dat', 'rezoluţiilor', 'parlamentului:', 'a', 'se', 'vedea', 'procesul-verbal'], ['ordinea', 'de', 'zi', 'a', 'următoarei', 'şedinţe:', 'a', 'se', 'vedea', 'procesul-verbal']]\n"
     ]
    }
   ],
   "source": [
    "#Few samples of Lowercase english transcript words\n",
    "print(splitLower(linesEn).take(10))\n",
    "#Few samples of Lowercase romanian transcript words\n",
    "print(splitLower(linesRo).take(10))\n"
   ]
  },
  {
   "cell_type": "code",
   "execution_count": 113,
   "metadata": {},
   "outputs": [
    {
     "name": "stdout",
     "output_type": "stream",
     "text": [
      "Lines in english transcript after using splitLower() : 399375\n",
      "Lines in romanian transcript after using splitLower() : 399375\n"
     ]
    }
   ],
   "source": [
    "#Get the number of lines in the english transcript after using splitLower()\n",
    "print(\"Lines in english transcript after using splitLower() : {}\".format(splitLower(linesEn).count()))\n",
    "#Get the number of lines in the romanian transcript after using splitLower()\n",
    "print(\"Lines in romanian transcript after using splitLower() : {}\".format(splitLower(linesRo).count()))"
   ]
  },
  {
   "cell_type": "code",
   "execution_count": 142,
   "metadata": {},
   "outputs": [
    {
     "name": "stdout",
     "output_type": "stream",
     "text": [
      "[('the', 740292), ('of', 357378), ('to', 322434), ('and', 288989), ('in', 235625), ('a', 162975), ('that', 159878), ('is', 155300), ('for', 121107), ('we', 108204)]\n",
      "[('de', 454842), ('în', 342724), ('a', 221238), ('să', 205834), ('şi', 184005), ('pentru', 135231), ('la', 131109), ('care', 129987), ('și', 118273), ('că', 105950)]\n"
     ]
    }
   ],
   "source": [
    "from operator import add\n",
    "\n",
    "#Get the first ten most occuring words in the English transcript\n",
    "print(splitLower(linesEn).flatMap(lambda w: w)\\\n",
    "                   .map(lambda w: (w,1))\\\n",
    "                   .reduceByKey(add)\\\n",
    "                   .sortBy(lambda x: -x[1])\\\n",
    "                   .take(10))\n",
    "\n",
    "#Get the first ten most occuring words in the Romanian transcript\n",
    "print(splitLower(linesRo).flatMap(lambda w: w)\\\n",
    "                   .map(lambda w: (w,1))\\\n",
    "                   .reduceByKey(add)\\\n",
    "                   .sortBy(lambda x: -x[1])\\\n",
    "                   .take(10))\n",
    "                    "
   ]
  },
  {
   "cell_type": "code",
   "execution_count": 181,
   "metadata": {},
   "outputs": [
    {
     "name": "stdout",
     "output_type": "stream",
     "text": [
      "[(0, ['componenţa', 'parlamentului:', 'a', 'se', 'vedea', 'procesul-verbal']), (1, ['aprobarea', 'procesului-verbal', 'al', 'şedinţei', 'precedente:', 'a', 'se', 'vedea', 'procesul-verbal']), (2, ['componenţa', 'parlamentului:', 'a', 'se', 'vedea', 'procesul-verbal']), (3, ['verificarea', 'prerogativelor:', 'a', 'se', 'vedea', 'procesul-verbal']), (4, ['depunere', 'de', 'documente:', 'a', 'se', 'vedea', 'procesul-verbal'])]\n",
      "[(0, ['membership', 'of', 'parliament:', 'see', 'minutes']), (1, ['approval', 'of', 'minutes', 'of', 'previous', 'sitting:', 'see', 'minutes']), (2, ['membership', 'of', 'parliament:', 'see', 'minutes']), (3, ['verification', 'of', 'credentials:', 'see', 'minutes']), (4, ['documents', 'received:', 'see', 'minutes'])]\n"
     ]
    }
   ],
   "source": [
    "\n",
    "#A4.1 A4.2\n",
    "Index_En=splitLower(linesEn).zipWithIndex()\n",
    "Index_En=Index_En.map(lambda w: (w[1],w[0]))\n",
    "\n",
    "Index_Ro=splitLower(linesRo).zipWithIndex()\n",
    "Index_Ro=Index_Ro.map(lambda w: (w[1],w[0]))\n",
    "\n",
    "print(Index_Ro.take(5))\n",
    "print(Index_En.take(5))\n",
    "\n",
    "    \n"
   ]
  },
  {
   "cell_type": "code",
   "execution_count": 220,
   "metadata": {},
   "outputs": [
    {
     "name": "stdout",
     "output_type": "stream",
     "text": [
      "[(0, (['componenţa', 'parlamentului:', 'a', 'se', 'vedea', 'procesul-verbal'], ['membership', 'of', 'parliament:', 'see', 'minutes'])), (1, (['aprobarea', 'procesului-verbal', 'al', 'şedinţei', 'precedente:', 'a', 'se', 'vedea', 'procesul-verbal'], ['approval', 'of', 'minutes', 'of', 'previous', 'sitting:', 'see', 'minutes'])), (2, (['componenţa', 'parlamentului:', 'a', 'se', 'vedea', 'procesul-verbal'], ['membership', 'of', 'parliament:', 'see', 'minutes'])), (3, (['verificarea', 'prerogativelor:', 'a', 'se', 'vedea', 'procesul-verbal'], ['verification', 'of', 'credentials:', 'see', 'minutes'])), (4, (['depunere', 'de', 'documente:', 'a', 'se', 'vedea', 'procesul-verbal'], ['documents', 'received:', 'see', 'minutes']))]\n"
     ]
    }
   ],
   "source": [
    "#A4.3 A4.4\n",
    "Index_Comb=Index_Ro.join(Index_En).reduceByKey(lambda x,y:x+y)\\\n",
    "                                  \n",
    "print(Index_Comb.takeOrdered(1))"
   ]
  },
  {
   "cell_type": "code",
   "execution_count": 179,
   "metadata": {},
   "outputs": [],
   "source": [
    "#A4.4 #           .filter(lambda x : [] not in x)"
   ]
  },
  {
   "cell_type": "code",
   "execution_count": 221,
   "metadata": {},
   "outputs": [
    {
     "name": "stdout",
     "output_type": "stream",
     "text": [
      "[(0, (['componenţa', 'parlamentului:', 'a', 'se', 'vedea', 'procesul-verbal'], ['membership', 'of', 'parliament:', 'see', 'minutes']))]\n"
     ]
    }
   ],
   "source": [
    "print(Index_Comb.takeOrdered(1))"
   ]
  },
  {
   "cell_type": "code",
   "execution_count": 223,
   "metadata": {},
   "outputs": [
    {
     "name": "stdout",
     "output_type": "stream",
     "text": [
      "[(0, (['componenţa', 'parlamentului:', 'a', 'se', 'vedea', 'procesul-verbal'], ['membership', 'of', 'parliament:', 'see', 'minutes']))]\n"
     ]
    }
   ],
   "source": [
    "Index_Comb=Index_Ro.join(Index_En).reduceByKey(lambda x,y:x+y)\\\n",
    "                                  .filter(lambda x : x where x[1])\n",
    "print(Index_Comb.takeOrdered(1))"
   ]
  },
  {
   "cell_type": "code",
   "execution_count": null,
   "metadata": {},
   "outputs": [],
   "source": []
  }
 ],
 "metadata": {
  "kernelspec": {
   "display_name": "Python 3",
   "language": "python",
   "name": "python3"
  },
  "language_info": {
   "codemirror_mode": {
    "name": "ipython",
    "version": 3
   },
   "file_extension": ".py",
   "mimetype": "text/x-python",
   "name": "python",
   "nbconvert_exporter": "python",
   "pygments_lexer": "ipython3",
   "version": "3.6.9"
  }
 },
 "nbformat": 4,
 "nbformat_minor": 2
}
